{
 "cells": [
  {
   "cell_type": "code",
   "execution_count": 19,
   "metadata": {
    "colab": {
     "base_uri": "https://localhost:8080/"
    },
    "executionInfo": {
     "elapsed": 6418,
     "status": "ok",
     "timestamp": 1625916527507,
     "user": {
      "displayName": "Nishal Dave",
      "photoUrl": "https://lh3.googleusercontent.com/a-/AOh14GjFJ4CW9Xfk4GvxZ-8Jm6-4_Gqit7vBVN51IcxIUfk=s64",
      "userId": "11349891049610884049"
     },
     "user_tz": -60
    },
    "id": "lyfeA4ozckhM",
    "outputId": "d3786182-e254-433c-959d-a87c37198881"
   },
   "outputs": [],
   "source": [
    "import pandas as pd\n",
    "import numpy as np\n",
    "import matplotlib.pyplot as plt\n",
    "import requests\n",
    "import csv\n",
    "from sys import platform\n",
    "from datetime import date\n",
    "import time\n",
    "key1 = \"9DIS4V39ATIST4CK\""
   ]
  },
  {
   "cell_type": "code",
   "execution_count": 20,
   "metadata": {
    "executionInfo": {
     "elapsed": 680,
     "status": "ok",
     "timestamp": 1625916528184,
     "user": {
      "displayName": "Nishal Dave",
      "photoUrl": "https://lh3.googleusercontent.com/a-/AOh14GjFJ4CW9Xfk4GvxZ-8Jm6-4_Gqit7vBVN51IcxIUfk=s64",
      "userId": "11349891049610884049"
     },
     "user_tz": -60
    },
    "id": "T94xon3y7u9G"
   },
   "outputs": [],
   "source": [
    "#importing the tickers of interest\n",
    "if platform == 'darwin':    \n",
    "    tick = pd.read_csv(r'/Users/nishaldave/OneDrive - University of Bristol/Dissertation/Volume Forecasting/Data/tickers',header=None)\n",
    "    ticklist = []\n",
    "    for i in tick[0]:\n",
    "      ticklist.append(i)\n",
    "elif platform == 'win32':\n",
    "    tick = pd.read_csv(r'C:\\Users\\Nish\\OneDrive - University of Bristol\\Dissertation\\Volume Forecasting\\Data\\Tickers\\AVScrape\\avtickers.csv', header=None)\n",
    "    ticklist = []\n",
    "    for i in tick[0]:\n",
    "      ticklist.append(i)"
   ]
  },
  {
   "cell_type": "code",
   "execution_count": 21,
   "metadata": {
    "executionInfo": {
     "elapsed": 14511,
     "status": "ok",
     "timestamp": 1625916542692,
     "user": {
      "displayName": "Nishal Dave",
      "photoUrl": "https://lh3.googleusercontent.com/a-/AOh14GjFJ4CW9Xfk4GvxZ-8Jm6-4_Gqit7vBVN51IcxIUfk=s64",
      "userId": "11349891049610884049"
     },
     "user_tz": -60
    },
    "id": "589MagIsYkEZ"
   },
   "outputs": [
    {
     "name": "stdout",
     "output_type": "stream",
     "text": [
      "GME has been scraped\n",
      "AMC has been scraped\n",
      "BB has been scraped\n",
      "NOK has been scraped\n",
      "SNDL has been scraped\n",
      "TD has been scraped\n",
      "HOOD has been scraped\n",
      "GT has been scraped\n",
      "PLTR has been scraped\n",
      "AAL has been scraped\n",
      "CTRM has been scraped\n",
      "BBBY has been scraped\n",
      "SPCE has been scraped\n",
      "TLRY has been scraped\n",
      "TSLA has been scraped\n",
      "WISH has been scraped\n",
      "KOSS has been scraped\n",
      "NIO has been scraped\n",
      "X has been scraped\n",
      "AMD has been scraped\n",
      "GNUS has been scraped\n",
      "AG has been scraped\n",
      "ZOM has been scraped\n",
      "FUBO has been scraped\n",
      "SOFI has been scraped\n",
      "OCGN has been scraped\n",
      "ALLY has been scraped\n",
      "PLUG has been scraped\n",
      "CRSR has been scraped\n",
      "ACB has been scraped\n",
      "RKT has been scraped\n",
      "IBKR has been scraped\n",
      "AAPL has been scraped\n",
      "ATOS has been scraped\n",
      "IDEX has been scraped\n",
      "XSPA has been scraped\n",
      "TDA has been scraped\n",
      "JAGX has been scraped\n",
      "BNGO has been scraped\n",
      "OGI has been scraped\n",
      "NAK has been scraped\n",
      "GEVO has been scraped\n",
      "SENS has been scraped\n",
      "SRNE has been scraped\n",
      "GE has been scraped\n",
      "BBW has been scraped\n",
      "VXRT has been scraped\n",
      "FB has been scraped\n",
      "CCL has been scraped\n",
      "CLOV has been scraped\n",
      "GM has been scraped\n",
      "GSAT has been scraped\n",
      "AMZN has been scraped\n",
      "CAT has been scraped\n",
      "XL has been scraped\n",
      "BIO has been scraped\n",
      "TR has been scraped\n",
      "UWMC has been scraped\n",
      "GTE has been scraped\n",
      "SIX has been scraped\n",
      "KODK has been scraped\n",
      "TXMD has been scraped\n",
      "CLVS has been scraped\n",
      "RIOT has been scraped\n",
      "NNDM has been scraped\n",
      "ATH has been scraped\n",
      "WKHS has been scraped\n",
      "SKT has been scraped\n",
      "BCRX has been scraped\n",
      "AMCX has been scraped\n",
      "BBY has been scraped\n",
      "RIG has been scraped\n",
      "BABA has been scraped\n",
      "DM has been scraped\n",
      "NKLA has been scraped\n",
      "MVIS has been scraped\n",
      "TNXP has been scraped\n",
      "DIS has been scraped\n",
      "LGND has been scraped\n",
      "GPRO has been scraped\n",
      "SKIN has been scraped\n",
      "CGC has been scraped\n",
      "QS has been scraped\n",
      "PRTY has been scraped\n",
      "MARA has been scraped\n",
      "MA has been scraped\n",
      "SPWR has been scraped\n",
      "SNOW has been scraped\n",
      "SIRI has been scraped\n",
      "GOGO has been scraped\n",
      "Z has been scraped\n",
      "NVAX has been scraped\n",
      "FIZZ has been scraped\n",
      "EXP has been scraped\n",
      "FCEL has been scraped\n",
      "JPM has been scraped\n",
      "UBER has been scraped\n",
      "HYLN has been scraped\n",
      "IBIO has been scraped\n",
      "OPK has been scraped\n",
      "IVR has been scraped\n",
      "MSFT has been scraped\n",
      "CIDM has been scraped\n",
      "ETSY has been scraped\n",
      "DKNG has been scraped\n",
      "GOEV has been scraped\n",
      "SNAP has been scraped\n",
      "ADMP has been scraped\n",
      "PFE has been scraped\n",
      "MT has been scraped\n",
      "F has been scraped\n"
     ]
    }
   ],
   "source": [
    "#Scraping financial data from the Alpha-Vantage API\n",
    "from alpha_vantage.timeseries import TimeSeries\n",
    "ts = TimeSeries(key=key1, output_format='pandas')\n",
    "stonkspanel = []\n",
    "for count,i in enumerate(ticklist):\n",
    "  data, meta_data = ts.get_daily_adjusted(symbol=i, outputsize='full')\n",
    "  data['asset']  = i\n",
    "  stonkspanel.append(data)\n",
    "  print('{x} has been scraped'.format(x=i))\n",
    "  if (count+1)%25==0:\n",
    "    time.sleep(65)\n",
    "  else:\n",
    "      continue"
   ]
  },
  {
   "cell_type": "code",
   "execution_count": 23,
   "metadata": {
    "executionInfo": {
     "elapsed": 186,
     "status": "ok",
     "timestamp": 1625918429493,
     "user": {
      "displayName": "Nishal Dave",
      "photoUrl": "https://lh3.googleusercontent.com/a-/AOh14GjFJ4CW9Xfk4GvxZ-8Jm6-4_Gqit7vBVN51IcxIUfk=s64",
      "userId": "11349891049610884049"
     },
     "user_tz": -60
    },
    "id": "0sivjSlIh2nx"
   },
   "outputs": [],
   "source": [
    "#Formatting stock data into datetime format\n",
    "stocks = pd.concat(stonkspanel)\n",
    "stocks = stocks.reset_index()\n",
    "stocks['week'] = stocks['date'].dt.week\n",
    "stocks['date'] = pd.to_datetime(stocks['date'],dayfirst=True).dt.date"
   ]
  },
  {
   "cell_type": "code",
   "execution_count": 24,
   "metadata": {
    "executionInfo": {
     "elapsed": 3,
     "status": "ok",
     "timestamp": 1625918430319,
     "user": {
      "displayName": "Nishal Dave",
      "photoUrl": "https://lh3.googleusercontent.com/a-/AOh14GjFJ4CW9Xfk4GvxZ-8Jm6-4_Gqit7vBVN51IcxIUfk=s64",
      "userId": "11349891049610884049"
     },
     "user_tz": -60
    },
    "id": "a5H9CI3BiuPJ"
   },
   "outputs": [],
   "source": [
    "#Time period used is from 29/06/2020 to 25/06/2021 - 1 year or 52 whole weeks (This is important when I use weekly data)\n",
    "stocks = stocks[stocks['date']>date(2020, 6, 25)]\n",
    "stocks = stocks[stocks['date']<date(2021, 6, 26)]\n",
    "#Renaming the variables and dropping irrelevant variables\n",
    "stocks = stocks.drop(columns=['5. adjusted close','7. dividend amount', '8. split coefficient'])\n",
    "stocks = stocks.rename(columns={'1. open' : 'open', '2. high' : 'high', '3. low' : 'low', '4. close' : 'close', '6. volume' : 'volume'})"
   ]
  },
  {
   "cell_type": "code",
   "execution_count": 25,
   "metadata": {
    "executionInfo": {
     "elapsed": 285,
     "status": "ok",
     "timestamp": 1625918431447,
     "user": {
      "displayName": "Nishal Dave",
      "photoUrl": "https://lh3.googleusercontent.com/a-/AOh14GjFJ4CW9Xfk4GvxZ-8Jm6-4_Gqit7vBVN51IcxIUfk=s64",
      "userId": "11349891049610884049"
     },
     "user_tz": -60
    },
    "id": "Y6H0yRFhiQah"
   },
   "outputs": [],
   "source": [
    "#Coding the weeks as ascending integers\n",
    "\n",
    "week_map_a = {(i+26):i for i in range(1,28)}\n",
    "week_map_b = {i:i+27 for i in range(1,27)}\n",
    "week_map  = {a:b for a,b in list(week_map_a.items())+list(week_map_b.items())}\n",
    "stocks['week'] = stocks['week'].apply(lambda x: week_map[x])\n",
    "#Sort by descending date\n",
    "stocks = stocks.iloc[::-1]\n",
    "#Save CSV to local\n",
    "if platform == 'darwin':\n",
    "    pd.DataFrame.to_csv(stocks,path_or_buf='/content/drive/MyDrive/Dissertation/Volume Forecasting/Data/stocks2.csv')\n",
    "elif platform == 'win32':\n",
    "    pd.DataFrame.to_csv(stocks,path_or_buf=r'C:\\Users\\Nish\\OneDrive - University of Bristol\\Dissertation\\Volume Forecasting\\Data\\Stock Scraper\\stocks_updated.csv')"
   ]
  },
  {
   "cell_type": "code",
   "execution_count": 29,
   "metadata": {},
   "outputs": [
    {
     "data": {
      "text/plain": [
       "110"
      ]
     },
     "execution_count": 29,
     "metadata": {},
     "output_type": "execute_result"
    }
   ],
   "source": [
    "len(stocks['asset'].unique())"
   ]
  },
  {
   "cell_type": "code",
   "execution_count": null,
   "metadata": {},
   "outputs": [],
   "source": []
  },
  {
   "cell_type": "code",
   "execution_count": null,
   "metadata": {},
   "outputs": [],
   "source": []
  }
 ],
 "metadata": {
  "colab": {
   "authorship_tag": "ABX9TyPZACVIleGIJzROHEMoNe/s",
   "collapsed_sections": [],
   "mount_file_id": "15V5gf99aWoLrb4bX1axMLZMRtJ3cOcQO",
   "name": "StockDataScrape.ipynb",
   "provenance": []
  },
  "kernelspec": {
   "display_name": "Python 3",
   "language": "python",
   "name": "python3"
  },
  "language_info": {
   "codemirror_mode": {
    "name": "ipython",
    "version": 3
   },
   "file_extension": ".py",
   "mimetype": "text/x-python",
   "name": "python",
   "nbconvert_exporter": "python",
   "pygments_lexer": "ipython3",
   "version": "3.7.6"
  }
 },
 "nbformat": 4,
 "nbformat_minor": 1
}
