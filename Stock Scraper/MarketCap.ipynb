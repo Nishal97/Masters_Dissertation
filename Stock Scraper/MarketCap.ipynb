{
 "cells": [
  {
   "cell_type": "code",
   "execution_count": 1,
   "metadata": {},
   "outputs": [],
   "source": [
    "import requests\n",
    "from sys import platform\n",
    "import pandas as pd\n",
    "import numpy as np"
   ]
  },
  {
   "cell_type": "code",
   "execution_count": 2,
   "metadata": {},
   "outputs": [],
   "source": [
    "#importing the tickers of interest\n",
    "if platform == 'darwin':    \n",
    "    tick = pd.read_csv(r'/Users/nishaldave/OneDrive - University of Bristol/Dissertation/Volume Forecasting/Data/tickers',header=None)\n",
    "    ticklist = []\n",
    "    for i in tick[0]:\n",
    "      ticklist.append(i)\n",
    "elif platform == 'win32':\n",
    "    tick = pd.read_csv(r'C:\\Users\\Nish\\OneDrive - University of Bristol\\Dissertation\\Volume Forecasting\\Data\\Tickers\\AVScrape\\avtickers.csv', header=None)\n",
    "    ticklist = []\n",
    "    for i in tick[0]:\n",
    "      ticklist.append(i)"
   ]
  },
  {
   "cell_type": "code",
   "execution_count": 3,
   "metadata": {},
   "outputs": [],
   "source": [
    "mktcap = []"
   ]
  },
  {
   "cell_type": "code",
   "execution_count": 4,
   "metadata": {},
   "outputs": [],
   "source": [
    "for i in ticklist:\n",
    "    url = 'https://www.alphavantage.co/query?function=OVERVIEW&symbol={tick}&apikey=9DIS4V39ATIST4CK'.format(tick=i)\n",
    "    r = requests.get(url)\n",
    "    data = r.json()\n",
    "    mktcap.append(data['MarketCapitalization'])"
   ]
  },
  {
   "cell_type": "code",
   "execution_count": 5,
   "metadata": {},
   "outputs": [],
   "source": [
    "mktcap = pd.DataFrame(mktcap)\n"
   ]
  },
  {
   "cell_type": "code",
   "execution_count": 6,
   "metadata": {},
   "outputs": [],
   "source": [
    "df = pd.concat([tick.reset_index(drop=True),mktcap.reset_index(drop=True)], axis=1)"
   ]
  },
  {
   "cell_type": "code",
   "execution_count": 7,
   "metadata": {},
   "outputs": [
    {
     "data": {
      "text/html": [
       "<div>\n",
       "<style scoped>\n",
       "    .dataframe tbody tr th:only-of-type {\n",
       "        vertical-align: middle;\n",
       "    }\n",
       "\n",
       "    .dataframe tbody tr th {\n",
       "        vertical-align: top;\n",
       "    }\n",
       "\n",
       "    .dataframe thead th {\n",
       "        text-align: right;\n",
       "    }\n",
       "</style>\n",
       "<table border=\"1\" class=\"dataframe\">\n",
       "  <thead>\n",
       "    <tr style=\"text-align: right;\">\n",
       "      <th></th>\n",
       "      <th>0</th>\n",
       "      <th>0</th>\n",
       "    </tr>\n",
       "  </thead>\n",
       "  <tbody>\n",
       "    <tr>\n",
       "      <th>0</th>\n",
       "      <td>GME</td>\n",
       "      <td>15080382000</td>\n",
       "    </tr>\n",
       "    <tr>\n",
       "      <th>1</th>\n",
       "      <td>AMC</td>\n",
       "      <td>22596786000</td>\n",
       "    </tr>\n",
       "    <tr>\n",
       "      <th>2</th>\n",
       "      <td>BB</td>\n",
       "      <td>6270181000</td>\n",
       "    </tr>\n",
       "    <tr>\n",
       "      <th>3</th>\n",
       "      <td>NOK</td>\n",
       "      <td>34221974000</td>\n",
       "    </tr>\n",
       "    <tr>\n",
       "      <th>4</th>\n",
       "      <td>SNDL</td>\n",
       "      <td>1597324000</td>\n",
       "    </tr>\n",
       "    <tr>\n",
       "      <th>...</th>\n",
       "      <td>...</td>\n",
       "      <td>...</td>\n",
       "    </tr>\n",
       "    <tr>\n",
       "      <th>106</th>\n",
       "      <td>SNAP</td>\n",
       "      <td>118709740000</td>\n",
       "    </tr>\n",
       "    <tr>\n",
       "      <th>107</th>\n",
       "      <td>ADMP</td>\n",
       "      <td>165263000</td>\n",
       "    </tr>\n",
       "    <tr>\n",
       "      <th>108</th>\n",
       "      <td>PFE</td>\n",
       "      <td>262617350000</td>\n",
       "    </tr>\n",
       "    <tr>\n",
       "      <th>109</th>\n",
       "      <td>MT</td>\n",
       "      <td>33786479000</td>\n",
       "    </tr>\n",
       "    <tr>\n",
       "      <th>110</th>\n",
       "      <td>F</td>\n",
       "      <td>51492458000</td>\n",
       "    </tr>\n",
       "  </tbody>\n",
       "</table>\n",
       "<p>111 rows × 2 columns</p>\n",
       "</div>"
      ],
      "text/plain": [
       "        0             0\n",
       "0     GME   15080382000\n",
       "1     AMC   22596786000\n",
       "2      BB    6270181000\n",
       "3     NOK   34221974000\n",
       "4    SNDL    1597324000\n",
       "..    ...           ...\n",
       "106  SNAP  118709740000\n",
       "107  ADMP     165263000\n",
       "108   PFE  262617350000\n",
       "109    MT   33786479000\n",
       "110     F   51492458000\n",
       "\n",
       "[111 rows x 2 columns]"
      ]
     },
     "execution_count": 7,
     "metadata": {},
     "output_type": "execute_result"
    }
   ],
   "source": [
    "df"
   ]
  },
  {
   "cell_type": "code",
   "execution_count": 8,
   "metadata": {},
   "outputs": [],
   "source": [
    "df.to_csv(r'C:\\Users\\Nish\\OneDrive - University of Bristol\\Dissertation\\Volume Forecasting\\Data\\Stock Scraper\\mktcap.csv')"
   ]
  },
  {
   "cell_type": "code",
   "execution_count": null,
   "metadata": {},
   "outputs": [],
   "source": []
  },
  {
   "cell_type": "code",
   "execution_count": null,
   "metadata": {},
   "outputs": [],
   "source": []
  }
 ],
 "metadata": {
  "kernelspec": {
   "display_name": "Python 3",
   "language": "python",
   "name": "python3"
  },
  "language_info": {
   "codemirror_mode": {
    "name": "ipython",
    "version": 3
   },
   "file_extension": ".py",
   "mimetype": "text/x-python",
   "name": "python",
   "nbconvert_exporter": "python",
   "pygments_lexer": "ipython3",
   "version": "3.7.6"
  }
 },
 "nbformat": 4,
 "nbformat_minor": 4
}
