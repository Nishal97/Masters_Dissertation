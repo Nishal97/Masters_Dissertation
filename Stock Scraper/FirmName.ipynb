{
 "cells": [
  {
   "cell_type": "code",
   "execution_count": 1,
   "metadata": {},
   "outputs": [],
   "source": [
    "import requests\n",
    "from sys import platform\n",
    "import pandas as pd\n",
    "import numpy as np"
   ]
  },
  {
   "cell_type": "code",
   "execution_count": 3,
   "metadata": {},
   "outputs": [],
   "source": [
    "#importing the tickers of interest\n",
    "if platform == 'darwin':    \n",
    "    tick = pd.read_csv(r'/Users/nishaldave/OneDrive - University of Bristol/Dissertation/Volume Forecasting/Data/Tickers',header=None)\n",
    "    ticklist = []\n",
    "    for i in tick[0]:\n",
    "      ticklist.append(i)\n",
    "elif platform == 'win32':\n",
    "    tick = pd.read_csv(r'C:\\Users\\Nish\\OneDrive - University of Bristol\\Dissertation\\Volume Forecasting\\Data\\Stock Scraper\\Tickers.csv', header=None)\n",
    "    ticklist = []\n",
    "    for i in tick[0]:\n",
    "      ticklist.append(i)"
   ]
  },
  {
   "cell_type": "code",
   "execution_count": 22,
   "metadata": {},
   "outputs": [],
   "source": [
    "firmlist = []"
   ]
  },
  {
   "cell_type": "code",
   "execution_count": 23,
   "metadata": {},
   "outputs": [],
   "source": [
    "for i in ticklist:\n",
    "    url = 'https://www.alphavantage.co/query?function=OVERVIEW&symbol={tick}&apikey=9DIS4V39ATIST4CK'.format(tick=i)\n",
    "    r = requests.get(url)\n",
    "    data = r.json()\n",
    "    firmlist.append(data['Name'])"
   ]
  },
  {
   "cell_type": "code",
   "execution_count": 24,
   "metadata": {},
   "outputs": [],
   "source": [
    "df = pd.DataFrame(firmlist)"
   ]
  },
  {
   "cell_type": "code",
   "execution_count": 25,
   "metadata": {},
   "outputs": [],
   "source": [
    "firmlist = pd.concat([df,pd.DataFrame(ticklist)],axis=1)"
   ]
  },
  {
   "cell_type": "code",
   "execution_count": 26,
   "metadata": {},
   "outputs": [
    {
     "data": {
      "text/html": [
       "<div>\n",
       "<style scoped>\n",
       "    .dataframe tbody tr th:only-of-type {\n",
       "        vertical-align: middle;\n",
       "    }\n",
       "\n",
       "    .dataframe tbody tr th {\n",
       "        vertical-align: top;\n",
       "    }\n",
       "\n",
       "    .dataframe thead th {\n",
       "        text-align: right;\n",
       "    }\n",
       "</style>\n",
       "<table border=\"1\" class=\"dataframe\">\n",
       "  <thead>\n",
       "    <tr style=\"text-align: right;\">\n",
       "      <th></th>\n",
       "      <th>0</th>\n",
       "      <th>0</th>\n",
       "    </tr>\n",
       "  </thead>\n",
       "  <tbody>\n",
       "    <tr>\n",
       "      <th>0</th>\n",
       "      <td>GameStop Corp</td>\n",
       "      <td>GME</td>\n",
       "    </tr>\n",
       "    <tr>\n",
       "      <th>1</th>\n",
       "      <td>AMC Entertainment Holdings Inc</td>\n",
       "      <td>AMC</td>\n",
       "    </tr>\n",
       "    <tr>\n",
       "      <th>2</th>\n",
       "      <td>BlackBerry Limited</td>\n",
       "      <td>BB</td>\n",
       "    </tr>\n",
       "    <tr>\n",
       "      <th>3</th>\n",
       "      <td>Nokia Corporation</td>\n",
       "      <td>NOK</td>\n",
       "    </tr>\n",
       "    <tr>\n",
       "      <th>4</th>\n",
       "      <td>Sundial Growers Inc</td>\n",
       "      <td>SNDL</td>\n",
       "    </tr>\n",
       "    <tr>\n",
       "      <th>...</th>\n",
       "      <td>...</td>\n",
       "      <td>...</td>\n",
       "    </tr>\n",
       "    <tr>\n",
       "      <th>106</th>\n",
       "      <td>Canoo Inc</td>\n",
       "      <td>GOEV</td>\n",
       "    </tr>\n",
       "    <tr>\n",
       "      <th>107</th>\n",
       "      <td>Snap Inc</td>\n",
       "      <td>SNAP</td>\n",
       "    </tr>\n",
       "    <tr>\n",
       "      <th>108</th>\n",
       "      <td>Adamis Pharmaceuticals Corporation</td>\n",
       "      <td>ADMP</td>\n",
       "    </tr>\n",
       "    <tr>\n",
       "      <th>109</th>\n",
       "      <td>Pfizer Inc</td>\n",
       "      <td>PFE</td>\n",
       "    </tr>\n",
       "    <tr>\n",
       "      <th>110</th>\n",
       "      <td>ArcelorMittal</td>\n",
       "      <td>MT</td>\n",
       "    </tr>\n",
       "  </tbody>\n",
       "</table>\n",
       "<p>111 rows × 2 columns</p>\n",
       "</div>"
      ],
      "text/plain": [
       "                                      0     0\n",
       "0                         GameStop Corp   GME\n",
       "1        AMC Entertainment Holdings Inc   AMC\n",
       "2                    BlackBerry Limited    BB\n",
       "3                     Nokia Corporation   NOK\n",
       "4                   Sundial Growers Inc  SNDL\n",
       "..                                  ...   ...\n",
       "106                           Canoo Inc  GOEV\n",
       "107                            Snap Inc  SNAP\n",
       "108  Adamis Pharmaceuticals Corporation  ADMP\n",
       "109                          Pfizer Inc   PFE\n",
       "110                       ArcelorMittal    MT\n",
       "\n",
       "[111 rows x 2 columns]"
      ]
     },
     "execution_count": 26,
     "metadata": {},
     "output_type": "execute_result"
    }
   ],
   "source": [
    "firmlist"
   ]
  },
  {
   "cell_type": "code",
   "execution_count": 31,
   "metadata": {},
   "outputs": [],
   "source": [
    "firmlist.to_csv(r\"C:\\\\Users\\\\Nish\\\\OneDrive - University of Bristol\\\\Dissertation\\Volume Forecasting\\\\Data\\\\Stock Scraper\\\\firmlist.csv\" )"
   ]
  },
  {
   "cell_type": "code",
   "execution_count": null,
   "metadata": {},
   "outputs": [],
   "source": []
  }
 ],
 "metadata": {
  "kernelspec": {
   "display_name": "Python 3",
   "language": "python",
   "name": "python3"
  },
  "language_info": {
   "codemirror_mode": {
    "name": "ipython",
    "version": 3
   },
   "file_extension": ".py",
   "mimetype": "text/x-python",
   "name": "python",
   "nbconvert_exporter": "python",
   "pygments_lexer": "ipython3",
   "version": "3.7.6"
  }
 },
 "nbformat": 4,
 "nbformat_minor": 4
}
