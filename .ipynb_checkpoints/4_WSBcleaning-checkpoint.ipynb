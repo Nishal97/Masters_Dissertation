{
 "cells": [
  {
   "cell_type": "code",
   "execution_count": 1,
   "metadata": {},
   "outputs": [
    {
     "name": "stderr",
     "output_type": "stream",
     "text": [
      "[nltk_data] Downloading package vader_lexicon to\n",
      "[nltk_data]     C:\\Users\\Nish\\AppData\\Roaming\\nltk_data...\n",
      "[nltk_data]   Package vader_lexicon is already up-to-date!\n"
     ]
    }
   ],
   "source": [
    "import pandas as pd\n",
    "import datetime\n",
    "import nltk\n",
    "nltk.download('vader_lexicon')\n",
    "from nltk.sentiment.vader import SentimentIntensityAnalyzer\n",
    "analyzer = SentimentIntensityAnalyzer()"
   ]
  },
  {
   "cell_type": "markdown",
   "metadata": {},
   "source": [
    "This script cleans and manages the Reddit data as well as computing the VADER sentiment values for each submission"
   ]
  },
  {
   "cell_type": "code",
   "execution_count": 2,
   "metadata": {},
   "outputs": [],
   "source": [
    "df = pd.read_csv(r'C:\\Users\\Nish\\OneDrive - University of Bristol\\Dissertation\\Volume Forecasting\\Data\\WSB Scraper\\Submissions\\assets3_v1.csv')\n",
    "df2 = pd.read_csv(r'C:\\Users\\Nish\\OneDrive - University of Bristol\\Dissertation\\Volume Forecasting\\Data\\WSB Scraper\\Submissions\\assetsF.csv')"
   ]
  },
  {
   "cell_type": "code",
   "execution_count": 4,
   "metadata": {},
   "outputs": [],
   "source": [
    "df = pd.concat([df,df2])"
   ]
  },
  {
   "cell_type": "code",
   "execution_count": 6,
   "metadata": {},
   "outputs": [],
   "source": [
    "df = df.reset_index()\n",
    "#Dropping the asset S (copy of SPY, not sure why it is there)\n",
    "#df = df[df['asset']!= 'S']\n",
    "\n",
    "#Add the week of the year\n",
    "df['created_utc'] =  pd.to_datetime(df['created_utc'])\n",
    "df['week'] = df['created_utc'].dt.week\n",
    "df['date'] = pd.to_datetime(df['created_utc'],dayfirst=True).dt.date\n",
    "\n",
    "#Coding the weeks as ascending integers\n",
    "week_map_a = {(i+26):i for i in range(1,28)}\n",
    "week_map_b = {i:i+27 for i in range(1,27)}\n",
    "week_map  = {a:b for a,b in list(week_map_a.items())+list(week_map_b.items())}\n",
    "df['week'] = df['week'].apply(lambda x: week_map[x])"
   ]
  },
  {
   "cell_type": "code",
   "execution_count": 8,
   "metadata": {},
   "outputs": [],
   "source": [
    "df['compound1'] = df['selftext'].apply(lambda x:analyzer.polarity_scores(x)['compound'])\n",
    "#df['compound2'] = df['title'].apply(lambda x:analyzer.polarity_scores(x)['compound'])"
   ]
  },
  {
   "cell_type": "code",
   "execution_count": 11,
   "metadata": {},
   "outputs": [],
   "source": [
    "df = df[df['asset'] != '$JP']"
   ]
  },
  {
   "cell_type": "code",
   "execution_count": 16,
   "metadata": {},
   "outputs": [
    {
     "name": "stderr",
     "output_type": "stream",
     "text": [
      "C:\\Users\\Nish\\anaconda3\\lib\\site-packages\\ipykernel_launcher.py:1: SettingWithCopyWarning: \n",
      "A value is trying to be set on a copy of a slice from a DataFrame.\n",
      "Try using .loc[row_indexer,col_indexer] = value instead\n",
      "\n",
      "See the caveats in the documentation: https://pandas.pydata.org/pandas-docs/stable/user_guide/indexing.html#returning-a-view-versus-a-copy\n",
      "  \"\"\"Entry point for launching an IPython kernel.\n"
     ]
    }
   ],
   "source": [
    "df['asset'] = df['asset'].map(lambda x: x.lstrip('$'))"
   ]
  },
  {
   "cell_type": "code",
   "execution_count": 20,
   "metadata": {},
   "outputs": [],
   "source": [
    "pd.DataFrame.to_csv(df,path_or_buf=r'C:\\Users\\Nish\\OneDrive - University of Bristol\\Dissertation\\Volume Forecasting\\Data\\WSB Scraper\\Submissions\\assets3_v2.csv')"
   ]
  },
  {
   "cell_type": "code",
   "execution_count": null,
   "metadata": {},
   "outputs": [],
   "source": []
  },
  {
   "cell_type": "code",
   "execution_count": null,
   "metadata": {},
   "outputs": [],
   "source": []
  }
 ],
 "metadata": {
  "kernelspec": {
   "display_name": "Python 3",
   "language": "python",
   "name": "python3"
  },
  "language_info": {
   "codemirror_mode": {
    "name": "ipython",
    "version": 3
   },
   "file_extension": ".py",
   "mimetype": "text/x-python",
   "name": "python",
   "nbconvert_exporter": "python",
   "pygments_lexer": "ipython3",
   "version": "3.7.6"
  }
 },
 "nbformat": 4,
 "nbformat_minor": 4
}
