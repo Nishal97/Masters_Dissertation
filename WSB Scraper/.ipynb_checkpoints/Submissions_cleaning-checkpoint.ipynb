{
 "cells": [
  {
   "cell_type": "code",
   "execution_count": 1,
   "metadata": {},
   "outputs": [
    {
     "name": "stderr",
     "output_type": "stream",
     "text": [
      "[nltk_data] Downloading package vader_lexicon to\n",
      "[nltk_data]     C:\\Users\\Nish\\AppData\\Roaming\\nltk_data...\n",
      "[nltk_data]   Package vader_lexicon is already up-to-date!\n"
     ]
    }
   ],
   "source": [
    "import pandas as pd\n",
    "import datetime\n",
    "import nltk\n",
    "nltk.download('vader_lexicon')\n",
    "from nltk.sentiment.vader import SentimentIntensityAnalyzer\n",
    "analyzer = SentimentIntensityAnalyzer()"
   ]
  },
  {
   "cell_type": "code",
   "execution_count": 2,
   "metadata": {},
   "outputs": [],
   "source": [
    "df = pd.read_csv(r'C:\\Users\\Nish\\OneDrive - University of Bristol\\Dissertation\\Volume Forecasting\\Data\\WSB Scraper\\Submissions\\assets3_v1.csv')\n",
    "df2 = pd.read_csv(r'C:\\Users\\Nish\\OneDrive - University of Bristol\\Dissertation\\Volume Forecasting\\Data\\WSB Scraper\\Submissions\\assetsF.csv')"
   ]
  },
  {
   "cell_type": "code",
   "execution_count": 4,
   "metadata": {},
   "outputs": [],
   "source": [
    "df = pd.concat([df,df2])"
   ]
  },
  {
   "cell_type": "code",
   "execution_count": 5,
   "metadata": {},
   "outputs": [
    {
     "data": {
      "text/html": [
       "<div>\n",
       "<style scoped>\n",
       "    .dataframe tbody tr th:only-of-type {\n",
       "        vertical-align: middle;\n",
       "    }\n",
       "\n",
       "    .dataframe tbody tr th {\n",
       "        vertical-align: top;\n",
       "    }\n",
       "\n",
       "    .dataframe thead th {\n",
       "        text-align: right;\n",
       "    }\n",
       "</style>\n",
       "<table border=\"1\" class=\"dataframe\">\n",
       "  <thead>\n",
       "    <tr style=\"text-align: right;\">\n",
       "      <th></th>\n",
       "      <th>Unnamed: 0</th>\n",
       "      <th>created_utc</th>\n",
       "      <th>link_flair_css_class</th>\n",
       "      <th>num_comments</th>\n",
       "      <th>selftext</th>\n",
       "      <th>title</th>\n",
       "      <th>asset</th>\n",
       "    </tr>\n",
       "  </thead>\n",
       "  <tbody>\n",
       "    <tr>\n",
       "      <th>0</th>\n",
       "      <td>0</td>\n",
       "      <td>2020-07-03 12:54:03</td>\n",
       "      <td>NaN</td>\n",
       "      <td>6.0</td>\n",
       "      <td>The short interest is insane, higher than the ...</td>\n",
       "      <td>GameStop Short Squeeze [Discussion]</td>\n",
       "      <td>$GME</td>\n",
       "    </tr>\n",
       "    <tr>\n",
       "      <th>1</th>\n",
       "      <td>0</td>\n",
       "      <td>2020-07-30 15:53:04</td>\n",
       "      <td>yolo</td>\n",
       "      <td>7.0</td>\n",
       "      <td>Listen up you autist ducks,\\n\\nWe’re all bleed...</td>\n",
       "      <td>GME and the biggest short squeeze opportunity ...</td>\n",
       "      <td>$GME</td>\n",
       "    </tr>\n",
       "    <tr>\n",
       "      <th>2</th>\n",
       "      <td>0</td>\n",
       "      <td>2020-08-19 20:11:40</td>\n",
       "      <td>dd</td>\n",
       "      <td>33.0</td>\n",
       "      <td>I’m gonna conveniently skip the part where OP ...</td>\n",
       "      <td>Game Stop is going to fucking 0</td>\n",
       "      <td>$GME</td>\n",
       "    </tr>\n",
       "    <tr>\n",
       "      <th>3</th>\n",
       "      <td>0</td>\n",
       "      <td>2020-08-28 23:14:11</td>\n",
       "      <td>dd</td>\n",
       "      <td>21.0</td>\n",
       "      <td>That guy has been long GME for more than a yea...</td>\n",
       "      <td>Can't wait to see GME YOLO guy's account after...</td>\n",
       "      <td>$GME</td>\n",
       "    </tr>\n",
       "    <tr>\n",
       "      <th>4</th>\n",
       "      <td>2</td>\n",
       "      <td>2020-08-31 18:17:14</td>\n",
       "      <td>options</td>\n",
       "      <td>52.0</td>\n",
       "      <td>Money managers got so greedy that they shorted...</td>\n",
       "      <td>Gamestop's short float over 100%</td>\n",
       "      <td>$GME</td>\n",
       "    </tr>\n",
       "    <tr>\n",
       "      <th>...</th>\n",
       "      <td>...</td>\n",
       "      <td>...</td>\n",
       "      <td>...</td>\n",
       "      <td>...</td>\n",
       "      <td>...</td>\n",
       "      <td>...</td>\n",
       "      <td>...</td>\n",
       "    </tr>\n",
       "    <tr>\n",
       "      <th>1667</th>\n",
       "      <td>0</td>\n",
       "      <td>2021-06-24 20:47:11</td>\n",
       "      <td>chart</td>\n",
       "      <td>23.0</td>\n",
       "      <td>\\#disca,  dudes, check this chick\\n\\nA list o...</td>\n",
       "      <td>So let's do it like they do on the Discovery C...</td>\n",
       "      <td>$F</td>\n",
       "    </tr>\n",
       "    <tr>\n",
       "      <th>1668</th>\n",
       "      <td>6</td>\n",
       "      <td>2021-06-25 03:05:08</td>\n",
       "      <td>dd</td>\n",
       "      <td>8.0</td>\n",
       "      <td>Hello my fellow apes !\\n\\nI don’t think I need...</td>\n",
       "      <td>Let’s all go see F9 this weekend, and kill the...</td>\n",
       "      <td>$F</td>\n",
       "    </tr>\n",
       "    <tr>\n",
       "      <th>1669</th>\n",
       "      <td>5</td>\n",
       "      <td>2021-06-25 05:16:42</td>\n",
       "      <td>dd</td>\n",
       "      <td>8.0</td>\n",
       "      <td>Ladies and Gentlemen,\\n\\nforgive my rusty Engl...</td>\n",
       "      <td>Retard Report on Nel. The epitome of green sto...</td>\n",
       "      <td>$F</td>\n",
       "    </tr>\n",
       "    <tr>\n",
       "      <th>1670</th>\n",
       "      <td>4</td>\n",
       "      <td>2021-06-25 10:45:43</td>\n",
       "      <td>question</td>\n",
       "      <td>49.0</td>\n",
       "      <td>\\n\\nReally your daily hype thread. F*ck other ...</td>\n",
       "      <td>Daily Popular Tickers Thread by mentions for J...</td>\n",
       "      <td>$F</td>\n",
       "    </tr>\n",
       "    <tr>\n",
       "      <th>1671</th>\n",
       "      <td>0</td>\n",
       "      <td>2021-06-25 16:12:06</td>\n",
       "      <td>question</td>\n",
       "      <td>1.0</td>\n",
       "      <td>**$PLBY - Playboy Enterprises**\\n\\nPLBY Group,...</td>\n",
       "      <td>P*rn Obsessed? Invest in $PLBY and $RICK</td>\n",
       "      <td>$F</td>\n",
       "    </tr>\n",
       "  </tbody>\n",
       "</table>\n",
       "<p>111844 rows × 7 columns</p>\n",
       "</div>"
      ],
      "text/plain": [
       "      Unnamed: 0          created_utc link_flair_css_class  num_comments  \\\n",
       "0              0  2020-07-03 12:54:03                  NaN           6.0   \n",
       "1              0  2020-07-30 15:53:04                 yolo           7.0   \n",
       "2              0  2020-08-19 20:11:40                   dd          33.0   \n",
       "3              0  2020-08-28 23:14:11                   dd          21.0   \n",
       "4              2  2020-08-31 18:17:14              options          52.0   \n",
       "...          ...                  ...                  ...           ...   \n",
       "1667           0  2021-06-24 20:47:11                chart          23.0   \n",
       "1668           6  2021-06-25 03:05:08                   dd           8.0   \n",
       "1669           5  2021-06-25 05:16:42                   dd           8.0   \n",
       "1670           4  2021-06-25 10:45:43             question          49.0   \n",
       "1671           0  2021-06-25 16:12:06             question           1.0   \n",
       "\n",
       "                                               selftext  \\\n",
       "0     The short interest is insane, higher than the ...   \n",
       "1     Listen up you autist ducks,\\n\\nWe’re all bleed...   \n",
       "2     I’m gonna conveniently skip the part where OP ...   \n",
       "3     That guy has been long GME for more than a yea...   \n",
       "4     Money managers got so greedy that they shorted...   \n",
       "...                                                 ...   \n",
       "1667   \\#disca,  dudes, check this chick\\n\\nA list o...   \n",
       "1668  Hello my fellow apes !\\n\\nI don’t think I need...   \n",
       "1669  Ladies and Gentlemen,\\n\\nforgive my rusty Engl...   \n",
       "1670  \\n\\nReally your daily hype thread. F*ck other ...   \n",
       "1671  **$PLBY - Playboy Enterprises**\\n\\nPLBY Group,...   \n",
       "\n",
       "                                                  title asset  \n",
       "0                   GameStop Short Squeeze [Discussion]  $GME  \n",
       "1     GME and the biggest short squeeze opportunity ...  $GME  \n",
       "2                       Game Stop is going to fucking 0  $GME  \n",
       "3     Can't wait to see GME YOLO guy's account after...  $GME  \n",
       "4                      Gamestop's short float over 100%  $GME  \n",
       "...                                                 ...   ...  \n",
       "1667  So let's do it like they do on the Discovery C...    $F  \n",
       "1668  Let’s all go see F9 this weekend, and kill the...    $F  \n",
       "1669  Retard Report on Nel. The epitome of green sto...    $F  \n",
       "1670  Daily Popular Tickers Thread by mentions for J...    $F  \n",
       "1671           P*rn Obsessed? Invest in $PLBY and $RICK    $F  \n",
       "\n",
       "[111844 rows x 7 columns]"
      ]
     },
     "execution_count": 5,
     "metadata": {},
     "output_type": "execute_result"
    }
   ],
   "source": [
    "df"
   ]
  },
  {
   "cell_type": "code",
   "execution_count": 6,
   "metadata": {},
   "outputs": [],
   "source": [
    "df = df.reset_index()\n",
    "#Dropping the asset S (copy of SPY, not sure why it is there)\n",
    "#df = df[df['asset']!= 'S']\n",
    "\n",
    "#Add the week of the year\n",
    "df['created_utc'] =  pd.to_datetime(df['created_utc'])\n",
    "df['week'] = df['created_utc'].dt.week\n",
    "df['date'] = pd.to_datetime(df['created_utc'],dayfirst=True).dt.date\n",
    "\n",
    "#Coding the weeks as ascending integers\n",
    "week_map_a = {(i+26):i for i in range(1,28)}\n",
    "week_map_b = {i:i+27 for i in range(1,27)}\n",
    "week_map  = {a:b for a,b in list(week_map_a.items())+list(week_map_b.items())}\n",
    "df['week'] = df['week'].apply(lambda x: week_map[x])"
   ]
  },
  {
   "cell_type": "code",
   "execution_count": null,
   "metadata": {},
   "outputs": [],
   "source": []
  },
  {
   "cell_type": "code",
   "execution_count": 8,
   "metadata": {},
   "outputs": [],
   "source": [
    "df['compound1'] = df['selftext'].apply(lambda x:analyzer.polarity_scores(x)['compound'])\n",
    "#df['compound2'] = df['title'].apply(lambda x:analyzer.polarity_scores(x)['compound'])"
   ]
  },
  {
   "cell_type": "code",
   "execution_count": 11,
   "metadata": {},
   "outputs": [],
   "source": [
    "df = df[df['asset'] != '$JP']"
   ]
  },
  {
   "cell_type": "code",
   "execution_count": 16,
   "metadata": {},
   "outputs": [
    {
     "name": "stderr",
     "output_type": "stream",
     "text": [
      "C:\\Users\\Nish\\anaconda3\\lib\\site-packages\\ipykernel_launcher.py:1: SettingWithCopyWarning: \n",
      "A value is trying to be set on a copy of a slice from a DataFrame.\n",
      "Try using .loc[row_indexer,col_indexer] = value instead\n",
      "\n",
      "See the caveats in the documentation: https://pandas.pydata.org/pandas-docs/stable/user_guide/indexing.html#returning-a-view-versus-a-copy\n",
      "  \"\"\"Entry point for launching an IPython kernel.\n"
     ]
    }
   ],
   "source": [
    "df['asset'] = df['asset'].map(lambda x: x.lstrip('$'))"
   ]
  },
  {
   "cell_type": "code",
   "execution_count": 20,
   "metadata": {},
   "outputs": [],
   "source": [
    "pd.DataFrame.to_csv(df,path_or_buf=r'C:\\Users\\Nish\\OneDrive - University of Bristol\\Dissertation\\Volume Forecasting\\Data\\WSB Scraper\\Submissions\\assets3_v2.csv')"
   ]
  },
  {
   "cell_type": "code",
   "execution_count": null,
   "metadata": {},
   "outputs": [],
   "source": []
  },
  {
   "cell_type": "code",
   "execution_count": null,
   "metadata": {},
   "outputs": [],
   "source": []
  }
 ],
 "metadata": {
  "kernelspec": {
   "display_name": "Python 3",
   "language": "python",
   "name": "python3"
  },
  "language_info": {
   "codemirror_mode": {
    "name": "ipython",
    "version": 3
   },
   "file_extension": ".py",
   "mimetype": "text/x-python",
   "name": "python",
   "nbconvert_exporter": "python",
   "pygments_lexer": "ipython3",
   "version": "3.7.6"
  }
 },
 "nbformat": 4,
 "nbformat_minor": 4
}
